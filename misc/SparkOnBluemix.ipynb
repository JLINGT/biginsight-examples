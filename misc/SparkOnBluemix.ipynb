{
 "cells": [
  {
   "cell_type": "markdown",
   "metadata": {},
   "source": [
    "This notebook:\n",
    "\n",
    "- is intended to be run from IBM Analytics for Apache Spark on Bluemix\n",
    "- attempts to access data from a BigInsights on Cloud cluster using Hive and BigSQL.\n",
    "- does not work!!! currently the bluemix spark environment does not support unlimited strength cryptography\n",
    "\n",
    "Enter your credentials and run the notebook.  This exception probably means the spark service does not supported unlimited strength cryptography:\n",
    "\n",
    "`javax.net.ssl.SSLKeyException: RSA premaster secret error`"
   ]
  },
  {
   "cell_type": "markdown",
   "metadata": {},
   "source": [
    "# Credentials - keep this secret!"
   ]
  },
  {
   "cell_type": "code",
   "execution_count": null,
   "metadata": {
    "collapsed": false
   },
   "outputs": [],
   "source": [
    "cluster  = '<<changeme>>'  #  E.g. 10000\n",
    "username = '<<changeme>>'  #  E.g. biadmin\n",
    "password = '<<changeme>>'"
   ]
  },
  {
   "cell_type": "markdown",
   "metadata": {
    "collapsed": false
   },
   "source": [
    "# Code to connect to BigInsights on Cloud via Hive and BigSQL ..."
   ]
  },
  {
   "cell_type": "code",
   "execution_count": null,
   "metadata": {
    "collapsed": false
   },
   "outputs": [],
   "source": [
    "import os\n",
    "cwd = os.getcwd()\n",
    "\n",
    "cls_host = 'ehaasp-{0}-mastermanager.bi.services.bluemix.net'.format(cluster)\n",
    "sql_host = 'ehaasp-{0}-master-2.bi.services.bluemix.net'.format(cluster)"
   ]
  },
  {
   "cell_type": "markdown",
   "metadata": {},
   "source": [
    "Get the cluster certificate"
   ]
  },
  {
   "cell_type": "code",
   "execution_count": null,
   "metadata": {
    "collapsed": false
   },
   "outputs": [],
   "source": [
    "!openssl s_client -showcerts -connect {cls_host}:9443 < /dev/null | openssl x509 -outform PEM > certificate\n",
    "    \n",
    "# uncomment this for debugging\n",
    "#!cat certificate "
   ]
  },
  {
   "cell_type": "markdown",
   "metadata": {},
   "source": [
    "Add the cluster certificate to a truststore"
   ]
  },
  {
   "cell_type": "code",
   "execution_count": null,
   "metadata": {
    "collapsed": false
   },
   "outputs": [],
   "source": [
    "!rm truststore.jks\n",
    "!keytool -import -trustcacerts -alias biginsights -file certificate -keystore truststore.jks -storepass mypassword -noprompt"
   ]
  },
  {
   "cell_type": "markdown",
   "metadata": {},
   "source": [
    "Now attempt to connect to BigInsights on Cloud"
   ]
  },
  {
   "cell_type": "code",
   "execution_count": null,
   "metadata": {
    "collapsed": false
   },
   "outputs": [],
   "source": [
    "# test hive\n",
    "url = 'jdbc:hive2://{0}:10000/default;user={1};password={2};ssl=true;sslTrustStore={3}/truststore.jks;trustStorePassword=mypassword'.format(sql_host, username, password, cwd)\n",
    "df = sqlContext.read.format('jdbc').options(url=url, driver='org.apache.hive.jdbc.HiveDriver', dbtable='GOSALESDW.SLS_SALES_FACT').load()"
   ]
  },
  {
   "cell_type": "code",
   "execution_count": null,
   "metadata": {
    "collapsed": false
   },
   "outputs": [],
   "source": [
    "# test bigsql\n",
    "url  = 'jdbc:db2://{0}:51000/bigsql:user={1};password={2};sslConnection=true;sslTrustStoreLocation={3}/truststore.jks;Password=mypassword;'.format(sql_host, username, password, cwd)\n",
    "df = sqlContext.read.format('jdbc').options(url=url, driver='com.ibm.db2.jcc.DB2Driver', dbtable='GOSALESDW.SLS_SALES_FACT').load()"
   ]
  }
 ],
 "metadata": {
  "kernelspec": {
   "display_name": "Python 2",
   "language": "python",
   "name": "python2"
  },
  "language_info": {
   "codemirror_mode": {
    "name": "ipython",
    "version": 2
   },
   "file_extension": ".py",
   "mimetype": "text/x-python",
   "name": "python",
   "nbconvert_exporter": "python",
   "pygments_lexer": "ipython2",
   "version": "2.7.9"
  }
 },
 "nbformat": 4,
 "nbformat_minor": 0
}